{
 "cells": [
  {
   "cell_type": "markdown",
   "id": "a1644a28-45f4-4c8b-a5c2-0f6797e6e943",
   "metadata": {},
   "source": [
    "<H1>SPAM DETECTION</H1>"
   ]
  },
  {
   "cell_type": "code",
   "execution_count": 1,
   "id": "656c8833-3a0a-47e7-be43-901ae35688a4",
   "metadata": {},
   "outputs": [],
   "source": [
    "import pandas as pd\n",
    "import numpy as np"
   ]
  },
  {
   "cell_type": "markdown",
   "id": "fd9ec456-8844-48cf-af9b-df2d4bb27c31",
   "metadata": {},
   "source": [
    "<h3>READING CSV</h3>"
   ]
  },
  {
   "cell_type": "code",
   "execution_count": 2,
   "id": "ce8e2bc4-cd7c-4df7-8c5d-5c344b820d35",
   "metadata": {},
   "outputs": [],
   "source": [
    "df=pd.read_csv('combined_data.csv')"
   ]
  },
  {
   "cell_type": "code",
   "execution_count": 44,
   "id": "9ff7a6ec-add0-40dc-83e6-db243b63fd11",
   "metadata": {},
   "outputs": [
    {
     "data": {
      "text/html": [
       "<div>\n",
       "<style scoped>\n",
       "    .dataframe tbody tr th:only-of-type {\n",
       "        vertical-align: middle;\n",
       "    }\n",
       "\n",
       "    .dataframe tbody tr th {\n",
       "        vertical-align: top;\n",
       "    }\n",
       "\n",
       "    .dataframe thead th {\n",
       "        text-align: right;\n",
       "    }\n",
       "</style>\n",
       "<table border=\"1\" class=\"dataframe\">\n",
       "  <thead>\n",
       "    <tr style=\"text-align: right;\">\n",
       "      <th></th>\n",
       "      <th>label</th>\n",
       "      <th>text</th>\n",
       "    </tr>\n",
       "  </thead>\n",
       "  <tbody>\n",
       "    <tr>\n",
       "      <th>0</th>\n",
       "      <td>1</td>\n",
       "      <td>ounce feather bowl hummingbird opec moment ala...</td>\n",
       "    </tr>\n",
       "    <tr>\n",
       "      <th>1</th>\n",
       "      <td>1</td>\n",
       "      <td>wulvob get your medircations online qnb ikud v...</td>\n",
       "    </tr>\n",
       "    <tr>\n",
       "      <th>2</th>\n",
       "      <td>0</td>\n",
       "      <td>computer connection from cnn com wednesday es...</td>\n",
       "    </tr>\n",
       "    <tr>\n",
       "      <th>3</th>\n",
       "      <td>1</td>\n",
       "      <td>university degree obtain a prosperous future m...</td>\n",
       "    </tr>\n",
       "    <tr>\n",
       "      <th>4</th>\n",
       "      <td>0</td>\n",
       "      <td>thanks for all your answers guys i know i shou...</td>\n",
       "    </tr>\n",
       "  </tbody>\n",
       "</table>\n",
       "</div>"
      ],
      "text/plain": [
       "   label                                               text\n",
       "0      1  ounce feather bowl hummingbird opec moment ala...\n",
       "1      1  wulvob get your medircations online qnb ikud v...\n",
       "2      0   computer connection from cnn com wednesday es...\n",
       "3      1  university degree obtain a prosperous future m...\n",
       "4      0  thanks for all your answers guys i know i shou..."
      ]
     },
     "execution_count": 44,
     "metadata": {},
     "output_type": "execute_result"
    }
   ],
   "source": [
    "df.head()"
   ]
  },
  {
   "cell_type": "code",
   "execution_count": 4,
   "id": "1bea85fc-7d33-4720-9eac-106970afc299",
   "metadata": {},
   "outputs": [
    {
     "data": {
      "text/plain": [
       "label    0\n",
       "text     0\n",
       "dtype: int64"
      ]
     },
     "execution_count": 4,
     "metadata": {},
     "output_type": "execute_result"
    }
   ],
   "source": [
    "#checking whether there is any null value or not\n",
    "df.isna().sum()"
   ]
  },
  {
   "cell_type": "code",
   "execution_count": 5,
   "id": "86289508-6f2d-4cdd-89c7-1a4922aada77",
   "metadata": {},
   "outputs": [
    {
     "data": {
      "text/plain": [
       "(83448, 2)"
      ]
     },
     "execution_count": 5,
     "metadata": {},
     "output_type": "execute_result"
    }
   ],
   "source": [
    "df.shape"
   ]
  },
  {
   "cell_type": "markdown",
   "id": "71931e18-4c46-4071-945c-d9950dcc2538",
   "metadata": {},
   "source": [
    "<H3>TOTAL OF 83000 SAMPLES</H3>"
   ]
  },
  {
   "cell_type": "code",
   "execution_count": 6,
   "id": "c8e16624-85c4-4bc2-a51b-31f9505a5310",
   "metadata": {},
   "outputs": [],
   "source": [
    "x=df['text']\n",
    "y=df['label']"
   ]
  },
  {
   "cell_type": "code",
   "execution_count": 7,
   "id": "57f4c500-3a74-44a3-9b04-af6194673559",
   "metadata": {},
   "outputs": [],
   "source": [
    "import seaborn as sns"
   ]
  },
  {
   "cell_type": "markdown",
   "id": "1decd42f-e222-4b7f-aa26-c23187ab70d4",
   "metadata": {},
   "source": [
    "<H3>VISUALIZING THE COUNTS</H3>"
   ]
  },
  {
   "cell_type": "code",
   "execution_count": 8,
   "id": "961d97e9-8e6a-469f-9515-15ba499818ab",
   "metadata": {},
   "outputs": [
    {
     "name": "stderr",
     "output_type": "stream",
     "text": [
      "C:\\Users\\Harshal\\AppData\\Local\\Packages\\PythonSoftwareFoundation.Python.3.11_qbz5n2kfra8p0\\LocalCache\\local-packages\\Python311\\site-packages\\seaborn\\_oldcore.py:1498: FutureWarning: is_categorical_dtype is deprecated and will be removed in a future version. Use isinstance(dtype, CategoricalDtype) instead\n",
      "  if pd.api.types.is_categorical_dtype(vector):\n",
      "C:\\Users\\Harshal\\AppData\\Local\\Packages\\PythonSoftwareFoundation.Python.3.11_qbz5n2kfra8p0\\LocalCache\\local-packages\\Python311\\site-packages\\seaborn\\_oldcore.py:1498: FutureWarning: is_categorical_dtype is deprecated and will be removed in a future version. Use isinstance(dtype, CategoricalDtype) instead\n",
      "  if pd.api.types.is_categorical_dtype(vector):\n",
      "C:\\Users\\Harshal\\AppData\\Local\\Packages\\PythonSoftwareFoundation.Python.3.11_qbz5n2kfra8p0\\LocalCache\\local-packages\\Python311\\site-packages\\seaborn\\_oldcore.py:1765: FutureWarning: unique with argument that is not not a Series, Index, ExtensionArray, or np.ndarray is deprecated and will raise in a future version.\n",
      "  order = pd.unique(vector)\n",
      "C:\\Users\\Harshal\\AppData\\Local\\Packages\\PythonSoftwareFoundation.Python.3.11_qbz5n2kfra8p0\\LocalCache\\local-packages\\Python311\\site-packages\\seaborn\\_oldcore.py:1498: FutureWarning: is_categorical_dtype is deprecated and will be removed in a future version. Use isinstance(dtype, CategoricalDtype) instead\n",
      "  if pd.api.types.is_categorical_dtype(vector):\n"
     ]
    },
    {
     "data": {
      "text/plain": [
       "<Axes: ylabel='count'>"
      ]
     },
     "execution_count": 8,
     "metadata": {},
     "output_type": "execute_result"
    },
    {
     "data": {
      "image/png": "[encoded data removed]",
      "text/plain": [
       "<Figure size 640x480 with 1 Axes>"
      ]
     },
     "metadata": {},
     "output_type": "display_data"
    }
   ],
   "source": [
    "label_counts = df['label'].value_counts()\n",
    "sns.barplot(x=['Not Spam', 'Spam'], y=label_counts, palette=['green', 'red'])\n"
   ]
  },
  {
   "cell_type": "markdown",
   "id": "5db9893f-3d45-4955-8fa1-6b7c01f9bae9",
   "metadata": {},
   "source": [
    "<H3>SPLITING OF DATA IN 70-30</H3>"
   ]
  },
  {
   "cell_type": "code",
   "execution_count": 9,
   "id": "cd10e713-43f4-4448-93b1-ca22b723d9f7",
   "metadata": {},
   "outputs": [],
   "source": [
    "from sklearn.model_selection import train_test_split"
   ]
  },
  {
   "cell_type": "code",
   "execution_count": 10,
   "id": "52ca30bc-751e-4097-b1bc-862fb11145c6",
   "metadata": {},
   "outputs": [
    {
     "name": "stdout",
     "output_type": "stream",
     "text": [
      "(58413,)\n",
      "(25035,)\n",
      "(58413,)\n",
      "(25035,)\n"
     ]
    }
   ],
   "source": [
    "# spliting the dataset into training and testing where testing size is 30 and training size is 70\n",
    "xtrain,xtest,ytrain,ytest=train_test_split(x,y,test_size=0.3)\n",
    "print(xtrain.shape)\n",
    "print(xtest.shape)\n",
    "print(ytrain.shape)\n",
    "print(xtest.shape)"
   ]
  },
  {
   "cell_type": "code",
   "execution_count": 11,
   "id": "6a8bff3f-4a50-45aa-abce-702c5f88fa77",
   "metadata": {},
   "outputs": [],
   "source": [
    "# using logistic regression as it is classification problem\n",
    "\n",
    "from sklearn.linear_model import LogisticRegression\n",
    "lr=LogisticRegression()"
   ]
  },
  {
   "cell_type": "code",
   "execution_count": 12,
   "id": "ad3208f9-a9d1-4105-8901-5f44ef3ca863",
   "metadata": {},
   "outputs": [],
   "source": [
    "from sklearn.feature_extraction.text import TfidfVectorizer\n"
   ]
  },
  {
   "cell_type": "code",
   "execution_count": 13,
   "id": "b5307137-c57c-4bce-bef3-570a49530a76",
   "metadata": {},
   "outputs": [],
   "source": [
    "# turning non nuerical into numerical\n",
    "feature_extraction = TfidfVectorizer(min_df = 1, stop_words='english',lowercase=True)\n",
    "ftrain = feature_extraction.fit_transform(xtrain)\n",
    "ftest  = feature_extraction.transform(xtest)\n",
    "ytrain = ytrain.astype('int')\n",
    "ytest = ytest.astype('int')"
   ]
  },
  {
   "cell_type": "code",
   "execution_count": 14,
   "id": "e855318e-7b88-4f73-974c-66008b824395",
   "metadata": {},
   "outputs": [
    {
     "data": {
      "text/html": [
       "<style>#sk-container-id-1 {color: black;}#sk-container-id-1 pre{padding: 0;}#sk-container-id-1 div.sk-toggleable {background-color: white;}#sk-container-id-1 label.sk-toggleable__label {cursor: pointer;display: block;width: 100%;margin-bottom: 0;padding: 0.3em;box-sizing: border-box;text-align: center;}#sk-container-id-1 label.sk-toggleable__label-arrow:before {content: \"▸\";float: left;margin-right: 0.25em;color: #696969;}#sk-container-id-1 label.sk-toggleable__label-arrow:hover:before {color: black;}#sk-container-id-1 div.sk-estimator:hover label.sk-toggleable__label-arrow:before {color: black;}#sk-container-id-1 div.sk-toggleable__content {max-height: 0;max-width: 0;overflow: hidden;text-align: left;background-color: #f0f8ff;}#sk-container-id-1 div.sk-toggleable__content pre {margin: 0.2em;color: black;border-radius: 0.25em;background-color: #f0f8ff;}#sk-container-id-1 input.sk-toggleable__control:checked~div.sk-toggleable__content {max-height: 200px;max-width: 100%;overflow: auto;}#sk-container-id-1 input.sk-toggleable__control:checked~label.sk-toggleable__label-arrow:before {content: \"▾\";}#sk-container-id-1 div.sk-estimator input.sk-toggleable__control:checked~label.sk-toggleable__label {background-color: #d4ebff;}#sk-container-id-1 div.sk-label input.sk-toggleable__control:checked~label.sk-toggleable__label {background-color: #d4ebff;}#sk-container-id-1 input.sk-hidden--visually {border: 0;clip: rect(1px 1px 1px 1px);clip: rect(1px, 1px, 1px, 1px);height: 1px;margin: -1px;overflow: hidden;padding: 0;position: absolute;width: 1px;}#sk-container-id-1 div.sk-estimator {font-family: monospace;background-color: #f0f8ff;border: 1px dotted black;border-radius: 0.25em;box-sizing: border-box;margin-bottom: 0.5em;}#sk-container-id-1 div.sk-estimator:hover {background-color: #d4ebff;}#sk-container-id-1 div.sk-parallel-item::after {content: \"\";width: 100%;border-bottom: 1px solid gray;flex-grow: 1;}#sk-container-id-1 div.sk-label:hover label.sk-toggleable__label {background-color: #d4ebff;}#sk-container-id-1 div.sk-serial::before {content: \"\";position: absolute;border-left: 1px solid gray;box-sizing: border-box;top: 0;bottom: 0;left: 50%;z-index: 0;}#sk-container-id-1 div.sk-serial {display: flex;flex-direction: column;align-items: center;background-color: white;padding-right: 0.2em;padding-left: 0.2em;position: relative;}#sk-container-id-1 div.sk-item {position: relative;z-index: 1;}#sk-container-id-1 div.sk-parallel {display: flex;align-items: stretch;justify-content: center;background-color: white;position: relative;}#sk-container-id-1 div.sk-item::before, #sk-container-id-1 div.sk-parallel-item::before {content: \"\";position: absolute;border-left: 1px solid gray;box-sizing: border-box;top: 0;bottom: 0;left: 50%;z-index: -1;}#sk-container-id-1 div.sk-parallel-item {display: flex;flex-direction: column;z-index: 1;position: relative;background-color: white;}#sk-container-id-1 div.sk-parallel-item:first-child::after {align-self: flex-end;width: 50%;}#sk-container-id-1 div.sk-parallel-item:last-child::after {align-self: flex-start;width: 50%;}#sk-container-id-1 div.sk-parallel-item:only-child::after {width: 0;}#sk-container-id-1 div.sk-dashed-wrapped {border: 1px dashed gray;margin: 0 0.4em 0.5em 0.4em;box-sizing: border-box;padding-bottom: 0.4em;background-color: white;}#sk-container-id-1 div.sk-label label {font-family: monospace;font-weight: bold;display: inline-block;line-height: 1.2em;}#sk-container-id-1 div.sk-label-container {text-align: center;}#sk-container-id-1 div.sk-container {/* jupyter's `normalize.less` sets `[hidden] { display: none; }` but bootstrap.min.css set `[hidden] { display: none !important; }` so we also need the `!important` here to be able to override the default hidden behavior on the sphinx rendered scikit-learn.org. See: https://github.com/scikit-learn/scikit-learn/issues/21755 */display: inline-block !important;position: relative;}#sk-container-id-1 div.sk-text-repr-fallback {display: none;}</style><div id=\"sk-container-id-1\" class=\"sk-top-container\"><div class=\"sk-text-repr-fallback\"><pre>LogisticRegression()</pre><b>In a Jupyter environment, please rerun this cell to show the HTML representation or trust the notebook. <br />On GitHub, the HTML representation is unable to render, please try loading this page with nbviewer.org.</b></div><div class=\"sk-container\" hidden><div class=\"sk-item\"><div class=\"sk-estimator sk-toggleable\"><input class=\"sk-toggleable__control sk-hidden--visually\" id=\"sk-estimator-id-1\" type=\"checkbox\" checked><label for=\"sk-estimator-id-1\" class=\"sk-toggleable__label sk-toggleable__label-arrow\">LogisticRegression</label><div class=\"sk-toggleable__content\"><pre>LogisticRegression()</pre></div></div></div></div></div>"
      ],
      "text/plain": [
       "LogisticRegression()"
      ]
     },
     "execution_count": 14,
     "metadata": {},
     "output_type": "execute_result"
    }
   ],
   "source": [
    "# training model\n",
    "lr.fit(ftrain,ytrain)"
   ]
  },
  {
   "cell_type": "code",
   "execution_count": 15,
   "id": "72c220af-048c-483b-a994-1e0deb17c6ef",
   "metadata": {},
   "outputs": [],
   "source": [
    "ypred=lr.predict(ftest)"
   ]
  },
  {
   "cell_type": "code",
   "execution_count": 16,
   "id": "aa4c9cc4-8c24-42d7-872a-2d96b06e9c0b",
   "metadata": {},
   "outputs": [],
   "source": [
    "from sklearn.metrics import accuracy_score"
   ]
  },
  {
   "cell_type": "code",
   "execution_count": 17,
   "id": "e92566c1-7e45-4ac8-bb3b-7f75d80cb5d6",
   "metadata": {},
   "outputs": [
    {
     "name": "stdout",
     "output_type": "stream",
     "text": [
      "0.9833832634311963\n"
     ]
    }
   ],
   "source": [
    "acc=accuracy_score(ypred,ytest)\n",
    "print(acc)"
   ]
  },
  {
   "cell_type": "code",
   "execution_count": 18,
   "id": "f0709695-b751-4934-ac14-6fd2c56905ea",
   "metadata": {},
   "outputs": [],
   "source": [
    "# lets try on custom data"
   ]
  },
  {
   "cell_type": "code",
   "execution_count": 19,
   "id": "ae04cea2-0e1e-4d2d-b1be-6b66279001a2",
   "metadata": {},
   "outputs": [],
   "source": [
    "samples = [\"Hello! you Loan Application was approved.\"]\n",
    "\n",
    "sample_features = feature_extraction.transform(samples)\n",
    "\n"
   ]
  },
  {
   "cell_type": "code",
   "execution_count": 20,
   "id": "2f6c0d9e-e103-4262-b24d-18b81e53f2b2",
   "metadata": {},
   "outputs": [],
   "source": [
    "pred=lr.predict(sample_features)"
   ]
  },
  {
   "cell_type": "code",
   "execution_count": 21,
   "id": "a0ec8f4f-2d40-4025-ae88-9d249fc64513",
   "metadata": {},
   "outputs": [
    {
     "name": "stdout",
     "output_type": "stream",
     "text": [
      "IT IS A SPAM MAIL BLOCK IT!!!\n"
     ]
    }
   ],
   "source": [
    "if pred==0:\n",
    "    print(\"NOT A SPAM MAIL\")\n",
    "else:\n",
    "    print(\"IT IS A SPAM MAIL BLOCK IT!!!\")"
   ]
  },
  {
   "cell_type": "code",
   "execution_count": 24,
   "id": "abd8d173-6361-4d5b-8eac-a35988e51c1a",
   "metadata": {},
   "outputs": [
    {
     "data": {
      "text/plain": [
       "['vectorizer.pkl']"
      ]
     },
     "execution_count": 24,
     "metadata": {},
     "output_type": "execute_result"
    }
   ],
   "source": [
    "\n",
    "joblib.dump(feature_extraction, 'vectorizer.pkl')"
   ]
  },
  {
   "cell_type": "code",
   "execution_count": 25,
   "id": "3c2567cd-abf8-4e83-ae88-8dcf3f2c7b5e",
   "metadata": {},
   "outputs": [
    {
     "data": {
      "text/plain": [
       "['model.pkl']"
      ]
     },
     "execution_count": 25,
     "metadata": {},
     "output_type": "execute_result"
    }
   ],
   "source": [
    "joblib.dump(lr, 'model.pkl')"
   ]
  },
  {
   "cell_type": "markdown",
   "id": "c67873e1-9774-456f-af31-f52cbbf81412",
   "metadata": {},
   "source": [
    "<H1>GUI</H1>"
   ]
  },
  {
   "cell_type": "code",
   "execution_count": 47,
   "id": "54d4372e-c1bd-483b-b12b-8089651e076f",
   "metadata": {},
   "outputs": [],
   "source": [
    "import tkinter as tk\n",
    "from tkinter import messagebox\n",
    "from sklearn.linear_model import LogisticRegression\n",
    "from sklearn.feature_extraction.text import TfidfVectorizer\n",
    "\n",
    "\n",
    "\n",
    "def predict_spam():\n",
    "    input_text = entry.get()\n",
    "\n",
    "    if not input_text:\n",
    "        messagebox.showwarning(\"Warning\", \"Please enter the content of the email.\")\n",
    "        return\n",
    "\n",
    "    sample = feature_extraction.transform([input_text])\n",
    "    prediction = model.predict(sample)\n",
    "\n",
    "    # Display the prediction\n",
    "    if prediction == 1:\n",
    "        result_label.config(text=\"Prediction: Spam\",font=(\"Arial\", 14), fg=\"red\")\n",
    "    else:\n",
    "        result_label.config(text=\"Prediction: Not Spam\",font=(\"Arial\", 14), fg=\"green\")\n",
    "    \n",
    "\n",
    "\n",
    "window = tk.Tk()\n",
    "window.title(\"Spam Detection\")\n",
    "\n",
    "window.geometry(\"500x300\")\n",
    "\n",
    "title_label = tk.Label(window,bg=\"yellow\", text=\"SPAM CLASSIFIER\", font=(\"Times New Roman\", 20, \"bold\"))\n",
    "title_label.pack(pady=5)\n",
    "\n",
    "developer_label = tk.Label(window,bg=\"yellow\", text=\"Developed by: Harshal Mali\", font=(\"Arial\", 10))\n",
    "developer_label.pack(pady=10)\n",
    "\n",
    "tk.Label(window,font=(\"Arial\",10), bg=\"yellow\",text=\"Enter the content of the email:\").pack(pady=10)\n",
    "entry = tk.Entry(window, width=50)\n",
    "entry.pack(pady=10)\n",
    "\n",
    "predict_button = tk.Button(window, text=\"Predict\", height=2,width=15,command=predict_spam)\n",
    "predict_button.pack(side=\"bottom\",pady=10,)\n",
    "\n",
    "result_label = tk.Label(window, text=\"\")\n",
    "result_label.pack(pady=10)\n",
    "\n",
    "window.configure(bg=\"yellow\")\n",
    "\n",
    "window.mainloop()\n"
   ]
  },
  {
   "cell_type": "code",
   "execution_count": null,
   "id": "176f8a78-1676-4bb3-85c6-34e55c3cd667",
   "metadata": {},
   "outputs": [],
   "source": []
  }
 ],
 "metadata": {
  "kernelspec": {
   "display_name": "Python 3 (ipykernel)",
   "language": "python",
   "name": "python3"
  },
  "language_info": {
   "codemirror_mode": {
    "name": "ipython",
    "version": 3
   },
   "file_extension": ".py",
   "mimetype": "text/x-python",
   "name": "python",
   "nbconvert_exporter": "python",
   "pygments_lexer": "ipython3",
   "version": "3.11.7"
  }
 },
 "nbformat": 4,
 "nbformat_minor": 5
}
